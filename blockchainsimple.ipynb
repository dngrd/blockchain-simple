{
  "nbformat": 4,
  "nbformat_minor": 0,
  "metadata": {
    "colab": {
      "provenance": [],
      "authorship_tag": "ABX9TyO7ODAfxkPqAMIyIkZiQ8Ui",
      "include_colab_link": true
    },
    "kernelspec": {
      "name": "python3",
      "display_name": "Python 3"
    },
    "language_info": {
      "name": "python"
    }
  },
  "cells": [
    {
      "cell_type": "markdown",
      "metadata": {
        "id": "view-in-github",
        "colab_type": "text"
      },
      "source": [
        "<a href=\"https://colab.research.google.com/github/dngrd/blockchain-simple/blob/main/blockchainsimple.ipynb\" target=\"_parent\"><img src=\"https://colab.research.google.com/assets/colab-badge.svg\" alt=\"Open In Colab\"/></a>"
      ]
    },
    {
      "cell_type": "code",
      "source": [
        "import hashlib\n",
        "import datetime as date"
      ],
      "metadata": {
        "id": "gXwlnkB77RpY"
      },
      "execution_count": 1,
      "outputs": []
    },
    {
      "cell_type": "code",
      "source": [
        "class Block:\n",
        "    def __init__(self, index, timestamp, data, previous_hash):\n",
        "        self.index = index\n",
        "        self.timestamp = timestamp\n",
        "        self.data = data\n",
        "        self.previous_hash = previous_hash\n",
        "        self.hash = self.calculate_hash()\n",
        "\n",
        "    def calculate_hash(self):\n",
        "        hash_string = str(self.index) + str(self.timestamp) + str(self.data) + str(self.previous_hash)\n",
        "        return hashlib.sha256(hash_string.encode()).hexdigest()\n"
      ],
      "metadata": {
        "id": "T77av98pWoA1"
      },
      "execution_count": 2,
      "outputs": []
    },
    {
      "cell_type": "code",
      "source": [
        "class Blockchain:\n",
        "    def __init__(self):\n",
        "        self.chain = [self.create_genesis_block()]\n",
        "\n",
        "    def create_genesis_block(self):\n",
        "        return Block(0, date.datetime.now(), \"Genesis Block\", \"0\")\n",
        "\n",
        "    def get_latest_block(self):\n",
        "        return self.chain[-1]\n",
        "\n",
        "    def add_block(self, new_block):\n",
        "        new_block.previous_hash = self.get_latest_block().hash\n",
        "        new_block.hash = new_block.calculate_hash()\n",
        "        self.chain.append(new_block)\n",
        "\n",
        "    def is_valid(self):\n",
        "        for i in range(1, len(self.chain)):\n",
        "            current_block = self.chain[i]\n",
        "            previous_block = self.chain[i-1]\n",
        "\n",
        "            if current_block.hash != current_block.calculate_hash():\n",
        "                return False\n",
        "\n",
        "            if current_block.previous_hash != previous_block.hash:\n",
        "                return False\n",
        "\n",
        "        return True"
      ],
      "metadata": {
        "id": "pt9EJh9KWqsK"
      },
      "execution_count": 3,
      "outputs": []
    },
    {
      "cell_type": "code",
      "source": [
        "# Create the blockchain\n",
        "blockchain = Blockchain()\n",
        "\n",
        "# Add blocks to the blockchain\n",
        "blockchain.add_block(Block(1, date.datetime.now(), \"Transaction Data 1\", \"\"))\n",
        "blockchain.add_block(Block(2, date.datetime.now(), \"Transaction Data 2\", \"\"))\n",
        "blockchain.add_block(Block(3, date.datetime.now(), \"Transaction Data 3\", \"\"))\n",
        "\n",
        "# Print the contents of the blockchain\n",
        "for block in blockchain.chain:\n",
        "    print(\"Block #\" + str(block.index))\n",
        "    print(\"Timestamp: \" + str(block.timestamp))\n",
        "    print(\"Data: \" + block.data)\n",
        "    print(\"Hash: \" + block.hash)\n",
        "    print(\"Previous Hash: \" + block.previous_hash)\n",
        "    print(\"\\n\")"
      ],
      "metadata": {
        "colab": {
          "base_uri": "https://localhost:8080/"
        },
        "id": "92QLU_IIWt_X",
        "outputId": "2b8baaa0-f9aa-4b2a-ff96-f2adc19f00b7"
      },
      "execution_count": 6,
      "outputs": [
        {
          "output_type": "stream",
          "name": "stdout",
          "text": [
            "Block #0\n",
            "Timestamp: 2024-06-30 13:35:04.391228\n",
            "Data: Genesis Block\n",
            "Hash: 7b8e06c83b27ae9bb082c4fa8023449214b3b992810ce030f0eaa8a0f83dcadb\n",
            "Previous Hash: 0\n",
            "\n",
            "\n",
            "Block #1\n",
            "Timestamp: 2024-06-30 13:35:04.391321\n",
            "Data: Transaction Data 1\n",
            "Hash: 300f40a6c9457302179ff03239e6bf62dd31b428ebcc50160700d124f5262098\n",
            "Previous Hash: 7b8e06c83b27ae9bb082c4fa8023449214b3b992810ce030f0eaa8a0f83dcadb\n",
            "\n",
            "\n",
            "Block #2\n",
            "Timestamp: 2024-06-30 13:35:04.391382\n",
            "Data: Transaction Data 2\n",
            "Hash: a4f48cda7b274b53067eb88026e80136e28a169a49497d44c639eb964fed779b\n",
            "Previous Hash: 300f40a6c9457302179ff03239e6bf62dd31b428ebcc50160700d124f5262098\n",
            "\n",
            "\n",
            "Block #3\n",
            "Timestamp: 2024-06-30 13:35:04.391437\n",
            "Data: Transaction Data 3\n",
            "Hash: 6304865841445164900b5739a8dfd20ee85e4dd31d48f167cc3120e3e60929a9\n",
            "Previous Hash: a4f48cda7b274b53067eb88026e80136e28a169a49497d44c639eb964fed779b\n",
            "\n",
            "\n"
          ]
        }
      ]
    }
  ]
}